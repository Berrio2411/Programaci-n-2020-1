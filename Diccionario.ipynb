{
  "nbformat": 4,
  "nbformat_minor": 0,
  "metadata": {
    "colab": {
      "name": "Te damos la bienvenida a Colaboratory",
      "provenance": [],
      "collapsed_sections": [],
      "toc_visible": true
    },
    "kernelspec": {
      "display_name": "Python 3",
      "name": "python3"
    }
  },
  "cells": [
    {
      "cell_type": "markdown",
      "metadata": {
        "id": "KHVTNiWbhtTA"
      },
      "source": [
        "Diccionarios\n"
      ]
    },
    {
      "cell_type": "code",
      "metadata": {
        "id": "uIFs2HSLh1cL"
      },
      "source": [
        "diccionario={}\n",
        "diccionario ['Nombres']= ['Laura x2','Karla','Santi','Juan','Melany','Mario','Valeria']\n",
        "diccionario['edades']=[17,18,19,18,20,21,19,]\n",
        "print(diccionario)\n",
        "print(diccionario.keys())\n",
        "print(diccionario.values())\n",
        "\n"
      ],
      "execution_count": null,
      "outputs": []
    },
    {
      "cell_type": "code",
      "metadata": {
        "id": "r2Zqw5pHjddB",
        "outputId": "60fc86e0-cdf3-4f49-9051-04e82a57de36",
        "colab": {
          "base_uri": "https://localhost:8080/"
        }
      },
      "source": [
        "alimentos={}\n",
        "alimentos['carnes']={'cerdo':['costilla','chuleta','pierna'],\n",
        "                     'res':['cola','solomo','punta de anca'],\n",
        "                     'pollo':['Muslo','Pechuga','ala']}\n",
        "\n",
        "alimentos['Lacteos']= ['Queso','leche','yogurt']  \n",
        "print(alimentos) \n",
        "print(alimentos.keys())\n",
        "\n",
        "print(alimentos['carnes'])\n",
        "print(alimentos['carnes'].keys())\n",
        "print(alimentos['carnes']['cerdo'])\n",
        "print(alimentos['carnes']['cerdo'][1])\n",
        "\n",
        "\n",
        "\n",
        "\n"
      ],
      "execution_count": 10,
      "outputs": [
        {
          "output_type": "stream",
          "text": [
            "{'carnes': {'cerdo': ['costilla', 'chuleta', 'pierna'], 'res': ['cola', 'solomo', 'punta de anca'], 'pollo': ['Muslo', 'Pechuga', 'ala']}, 'Lacteos': ['Queso', 'leche', 'yogurt']}\n",
            "dict_keys(['carnes', 'Lacteos'])\n",
            "{'cerdo': ['costilla', 'chuleta', 'pierna'], 'res': ['cola', 'solomo', 'punta de anca'], 'pollo': ['Muslo', 'Pechuga', 'ala']}\n",
            "dict_keys(['cerdo', 'res', 'pollo'])\n",
            "['costilla', 'chuleta', 'pierna']\n",
            "chuleta\n"
          ],
          "name": "stdout"
        }
      ]
    },
    {
      "cell_type": "markdown",
      "metadata": {
        "id": "tGVotp39m23f"
      },
      "source": [
        "Operaciones diccionario"
      ]
    },
    {
      "cell_type": "code",
      "metadata": {
        "id": "iC7X47-Olqrm"
      },
      "source": [
        "alimentos2= alimentos.copy()\n",
        "alimentos3=alimentos\n",
        "alimentos2['carnes']={}\n",
        "alimentos3['carnes']={}\n",
        "alimentos['carnes']\n",
        "\n",
        "\n",
        "\n"
      ],
      "execution_count": null,
      "outputs": []
    },
    {
      "cell_type": "markdown",
      "metadata": {
        "id": "riH_sksymujC"
      },
      "source": [
        "from keys\n"
      ]
    },
    {
      "cell_type": "code",
      "metadata": {
        "id": "pAJDOo_5mxR5",
        "outputId": "c1b12fce-0f6c-44fb-9f82-b01423e6c3fe",
        "colab": {
          "base_uri": "https://localhost:8080/"
        }
      },
      "source": [
        "keys=['nombres','edades','semestre']\n",
        "estudianteCes=dict.fromkeys(keys)\n",
        "print(estudianteCes)\n"
      ],
      "execution_count": 5,
      "outputs": [
        {
          "output_type": "stream",
          "text": [
            "{'nombres': None, 'edades': None, 'semestre': None}\n"
          ],
          "name": "stdout"
        }
      ]
    },
    {
      "cell_type": "markdown",
      "metadata": {
        "id": "tnn674pbngrK"
      },
      "source": [
        "Get"
      ]
    },
    {
      "cell_type": "code",
      "metadata": {
        "id": "xNvbkjUWnegI",
        "outputId": "0c627246-b139-4b3c-f92d-6bd4faf82a53",
        "colab": {
          "base_uri": "https://localhost:8080/"
        }
      },
      "source": [
        "a= alimentos.get('carnes').get('cerdo')\n",
        "b= alimentos['carnes']['cerdo']\n",
        "print(a==b)\n",
        "\n"
      ],
      "execution_count": 7,
      "outputs": [
        {
          "output_type": "stream",
          "text": [
            "True\n"
          ],
          "name": "stdout"
        }
      ]
    },
    {
      "cell_type": "markdown",
      "metadata": {
        "id": "ZBnVjCtRoN80"
      },
      "source": [
        "Pop\n"
      ]
    },
    {
      "cell_type": "code",
      "metadata": {
        "id": "fUMZ0-jKoPr7"
      },
      "source": [
        "print(alimentos.get('carnes'))\n",
        "alimentos['carnes'].pop('cerdo')\n",
        "alimentos.get ('carnes')\n"
      ],
      "execution_count": null,
      "outputs": []
    },
    {
      "cell_type": "markdown",
      "metadata": {
        "id": "5mpjnX6No9w6"
      },
      "source": [
        "Setdefault"
      ]
    },
    {
      "cell_type": "code",
      "metadata": {
        "id": "S-r_-lVBpBWz",
        "outputId": "e16b5dcf-5078-4620-cc90-a75464c96349",
        "colab": {
          "base_uri": "https://localhost:8080/"
        }
      },
      "source": [
        "print(alimentos.get('lacteos'))\n",
        "alimentos.setdefault('pan',['Pan con queso','Tajado','Croasant'])\n",
        "alimentos\n",
        "\n",
        "alimentos['Lacteos']=['Yogurt','Queso','leche','lecherita','cuajada']\n",
        "alimentos"
      ],
      "execution_count": 11,
      "outputs": [
        {
          "output_type": "stream",
          "text": [
            "None\n"
          ],
          "name": "stdout"
        },
        {
          "output_type": "execute_result",
          "data": {
            "text/plain": [
              "{'Lacteos': ['Yogurt', 'Queso', 'leche', 'lecherita', 'cuajada'],\n",
              " 'carnes': {'cerdo': ['costilla', 'chuleta', 'pierna'],\n",
              "  'pollo': ['Muslo', 'Pechuga', 'ala'],\n",
              "  'res': ['cola', 'solomo', 'punta de anca']},\n",
              " 'pan': ['Pan con queso', 'Tajado', 'Croasant']}"
            ]
          },
          "metadata": {
            "tags": []
          },
          "execution_count": 11
        }
      ]
    }
  ]
}